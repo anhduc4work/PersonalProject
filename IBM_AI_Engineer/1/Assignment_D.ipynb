{
 "cells": [
  {
   "cell_type": "code",
   "execution_count": 1,
   "metadata": {},
   "outputs": [],
   "source": [
    "import numpy as np \n",
    "import pandas as pd \n",
    "import warnings\n",
    "warnings.filterwarnings(\"ignore\")"
   ]
  },
  {
   "attachments": {
    "image.png": {
     "image/png": "[encoded data removed]"
    }
   },
   "cell_type": "markdown",
   "metadata": {},
   "source": [
    "![image.png](attachment:image.png)"
   ]
  },
  {
   "cell_type": "markdown",
   "metadata": {},
   "source": [
    "# Prepare data"
   ]
  },
  {
   "cell_type": "code",
   "execution_count": 2,
   "metadata": {},
   "outputs": [],
   "source": [
    "# Read data\n",
    "from sklearn.model_selection import train_test_split\n",
    "data= pd.read_csv('concrete_data.csv')\n",
    "\n",
    "# Split data\n",
    "X = data.drop(['Strength'],axis =1)\n",
    "y = data['Strength']\n",
    "X_train, X_test, y_train, y_test = train_test_split(X, y, test_size=0.3)"
   ]
  },
  {
   "cell_type": "code",
   "execution_count": 3,
   "metadata": {},
   "outputs": [],
   "source": [
    "# Processing data\n",
    "from sklearn.preprocessing import StandardScaler\n",
    "scaler = StandardScaler()\n",
    "scaler.fit(X_train)\n",
    "X_train_B = scaler.transform(X_train)\n",
    "X_test_B = scaler.transform(X_test)"
   ]
  },
  {
   "cell_type": "markdown",
   "metadata": {},
   "source": [
    "# Build model"
   ]
  },
  {
   "cell_type": "code",
   "execution_count": 4,
   "metadata": {},
   "outputs": [
    {
     "name": "stdout",
     "output_type": "stream",
     "text": [
      "WARNING:tensorflow:From c:\\Users\\Administrator\\AppData\\Local\\Programs\\Python\\Python310\\lib\\site-packages\\keras\\src\\losses.py:2976: The name tf.losses.sparse_softmax_cross_entropy is deprecated. Please use tf.compat.v1.losses.sparse_softmax_cross_entropy instead.\n",
      "\n",
      "WARNING:tensorflow:From c:\\Users\\Administrator\\AppData\\Local\\Programs\\Python\\Python310\\lib\\site-packages\\keras\\src\\backend.py:873: The name tf.get_default_graph is deprecated. Please use tf.compat.v1.get_default_graph instead.\n",
      "\n",
      "WARNING:tensorflow:From c:\\Users\\Administrator\\AppData\\Local\\Programs\\Python\\Python310\\lib\\site-packages\\keras\\src\\optimizers\\__init__.py:309: The name tf.train.Optimizer is deprecated. Please use tf.compat.v1.train.Optimizer instead.\n",
      "\n"
     ]
    }
   ],
   "source": [
    "from keras.models import Sequential\n",
    "from keras.layers import Dense\n",
    "\n",
    "model = Sequential()\n",
    "model.add(Dense(10, activation = 'relu', input_shape=(X.shape[1],)))\n",
    "model.add(Dense(10, activation = 'relu'))\n",
    "model.add(Dense(10, activation = 'relu'))\n",
    "model.add(Dense(1))\n",
    "model.compile(optimizer='adam', loss='mean_squared_error')"
   ]
  },
  {
   "cell_type": "markdown",
   "metadata": {},
   "source": [
    "# Train & Validate model"
   ]
  },
  {
   "cell_type": "code",
   "execution_count": 5,
   "metadata": {},
   "outputs": [
    {
     "name": "stdout",
     "output_type": "stream",
     "text": [
      "Epoch 1/50\n",
      "WARNING:tensorflow:From c:\\Users\\Administrator\\AppData\\Local\\Programs\\Python\\Python310\\lib\\site-packages\\keras\\src\\utils\\tf_utils.py:492: The name tf.ragged.RaggedTensorValue is deprecated. Please use tf.compat.v1.ragged.RaggedTensorValue instead.\n",
      "\n",
      "23/23 [==============================] - 1s 11ms/step - loss: 2718.3730 - val_loss: 854.9497\n",
      "Epoch 2/50\n",
      "23/23 [==============================] - 0s 3ms/step - loss: 537.1602 - val_loss: 372.4553\n",
      "Epoch 3/50\n",
      "23/23 [==============================] - 0s 3ms/step - loss: 333.5327 - val_loss: 291.2254\n",
      "Epoch 4/50\n",
      "23/23 [==============================] - 0s 3ms/step - loss: 256.1257 - val_loss: 237.0376\n",
      "Epoch 5/50\n",
      "23/23 [==============================] - 0s 3ms/step - loss: 214.4492 - val_loss: 202.7331\n",
      "Epoch 6/50\n",
      "23/23 [==============================] - 0s 3ms/step - loss: 186.6215 - val_loss: 177.8257\n",
      "Epoch 7/50\n",
      "23/23 [==============================] - 0s 3ms/step - loss: 170.3350 - val_loss: 163.1202\n",
      "Epoch 8/50\n",
      "23/23 [==============================] - 0s 3ms/step - loss: 159.3318 - val_loss: 162.6055\n",
      "Epoch 9/50\n",
      "23/23 [==============================] - 0s 4ms/step - loss: 150.8035 - val_loss: 156.7427\n",
      "Epoch 10/50\n",
      "23/23 [==============================] - 0s 3ms/step - loss: 140.4463 - val_loss: 141.1680\n",
      "Epoch 11/50\n",
      "23/23 [==============================] - 0s 3ms/step - loss: 132.8126 - val_loss: 135.8990\n",
      "Epoch 12/50\n",
      "23/23 [==============================] - 0s 3ms/step - loss: 126.3364 - val_loss: 132.8962\n",
      "Epoch 13/50\n",
      "23/23 [==============================] - 0s 3ms/step - loss: 121.1528 - val_loss: 128.2316\n",
      "Epoch 14/50\n",
      "23/23 [==============================] - 0s 3ms/step - loss: 112.6964 - val_loss: 124.1245\n",
      "Epoch 15/50\n",
      "23/23 [==============================] - 0s 4ms/step - loss: 107.4816 - val_loss: 118.7570\n",
      "Epoch 16/50\n",
      "23/23 [==============================] - 0s 5ms/step - loss: 101.7141 - val_loss: 118.6563\n",
      "Epoch 17/50\n",
      "23/23 [==============================] - 0s 4ms/step - loss: 99.5302 - val_loss: 111.4326\n",
      "Epoch 18/50\n",
      "23/23 [==============================] - 0s 4ms/step - loss: 93.6890 - val_loss: 109.2730\n",
      "Epoch 19/50\n",
      "23/23 [==============================] - 0s 3ms/step - loss: 89.8061 - val_loss: 107.6415\n",
      "Epoch 20/50\n",
      "23/23 [==============================] - 0s 3ms/step - loss: 87.2413 - val_loss: 104.4990\n",
      "Epoch 21/50\n",
      "23/23 [==============================] - 0s 3ms/step - loss: 86.7218 - val_loss: 107.7095\n",
      "Epoch 22/50\n",
      "23/23 [==============================] - 0s 3ms/step - loss: 83.3654 - val_loss: 102.8598\n",
      "Epoch 23/50\n",
      "23/23 [==============================] - 0s 3ms/step - loss: 81.7270 - val_loss: 99.8595\n",
      "Epoch 24/50\n",
      "23/23 [==============================] - 0s 3ms/step - loss: 80.2134 - val_loss: 99.7705\n",
      "Epoch 25/50\n",
      "23/23 [==============================] - 0s 3ms/step - loss: 78.5363 - val_loss: 100.3002\n",
      "Epoch 26/50\n",
      "23/23 [==============================] - 0s 4ms/step - loss: 80.2268 - val_loss: 105.1715\n",
      "Epoch 27/50\n",
      "23/23 [==============================] - 0s 4ms/step - loss: 76.2121 - val_loss: 102.8321\n",
      "Epoch 28/50\n",
      "23/23 [==============================] - 0s 3ms/step - loss: 77.3341 - val_loss: 95.5607\n",
      "Epoch 29/50\n",
      "23/23 [==============================] - 0s 3ms/step - loss: 75.7456 - val_loss: 100.6756\n",
      "Epoch 30/50\n",
      "23/23 [==============================] - 0s 3ms/step - loss: 75.1921 - val_loss: 98.4451\n",
      "Epoch 31/50\n",
      "23/23 [==============================] - 0s 3ms/step - loss: 75.8228 - val_loss: 93.3491\n",
      "Epoch 32/50\n",
      "23/23 [==============================] - 0s 3ms/step - loss: 78.9837 - val_loss: 93.5964\n",
      "Epoch 33/50\n",
      "23/23 [==============================] - 0s 3ms/step - loss: 75.1939 - val_loss: 97.6224\n",
      "Epoch 34/50\n",
      "23/23 [==============================] - 0s 3ms/step - loss: 74.1437 - val_loss: 92.9487\n",
      "Epoch 35/50\n",
      "23/23 [==============================] - 0s 3ms/step - loss: 73.9994 - val_loss: 93.0337\n",
      "Epoch 36/50\n",
      "23/23 [==============================] - 0s 3ms/step - loss: 74.1561 - val_loss: 93.1714\n",
      "Epoch 37/50\n",
      "23/23 [==============================] - 0s 3ms/step - loss: 72.1842 - val_loss: 93.9178\n",
      "Epoch 38/50\n",
      "23/23 [==============================] - 0s 3ms/step - loss: 76.0450 - val_loss: 106.4620\n",
      "Epoch 39/50\n",
      "23/23 [==============================] - 0s 3ms/step - loss: 76.8559 - val_loss: 91.6685\n",
      "Epoch 40/50\n",
      "23/23 [==============================] - 0s 3ms/step - loss: 72.5768 - val_loss: 90.4905\n",
      "Epoch 41/50\n",
      "23/23 [==============================] - 0s 3ms/step - loss: 72.2994 - val_loss: 105.7238\n",
      "Epoch 42/50\n",
      "23/23 [==============================] - 0s 3ms/step - loss: 72.2716 - val_loss: 91.4238\n",
      "Epoch 43/50\n",
      "23/23 [==============================] - 0s 3ms/step - loss: 72.4529 - val_loss: 90.0637\n",
      "Epoch 44/50\n",
      "23/23 [==============================] - 0s 3ms/step - loss: 71.7771 - val_loss: 90.0672\n",
      "Epoch 45/50\n",
      "23/23 [==============================] - 0s 3ms/step - loss: 73.3888 - val_loss: 89.0627\n",
      "Epoch 46/50\n",
      "23/23 [==============================] - 0s 3ms/step - loss: 74.9003 - val_loss: 88.5450\n",
      "Epoch 47/50\n",
      "23/23 [==============================] - 0s 3ms/step - loss: 71.4985 - val_loss: 89.5811\n",
      "Epoch 48/50\n",
      "23/23 [==============================] - 0s 3ms/step - loss: 72.0726 - val_loss: 108.0342\n",
      "Epoch 49/50\n",
      "23/23 [==============================] - 0s 3ms/step - loss: 72.3593 - val_loss: 91.9530\n",
      "Epoch 50/50\n",
      "23/23 [==============================] - 0s 3ms/step - loss: 71.0755 - val_loss: 95.4526\n"
     ]
    },
    {
     "data": {
      "text/plain": [
       "<keras.src.callbacks.History at 0x28bca5cb340>"
      ]
     },
     "execution_count": 5,
     "metadata": {},
     "output_type": "execute_result"
    }
   ],
   "source": [
    "model.fit(X_train, y_train, validation_data=(X_test, y_test), epochs=50)"
   ]
  },
  {
   "cell_type": "markdown",
   "metadata": {},
   "source": [
    "# Report"
   ]
  },
  {
   "cell_type": "code",
   "execution_count": 6,
   "metadata": {},
   "outputs": [],
   "source": [
    "# list of mse on test set\n",
    "mse_history = model.history.history['val_loss']"
   ]
  },
  {
   "cell_type": "code",
   "execution_count": 7,
   "metadata": {},
   "outputs": [
    {
     "name": "stdout",
     "output_type": "stream",
     "text": [
      "Mean of MSEs: 137.0125212097168\n",
      "Standard Deviation of MSEs: 115.46582595867795\n"
     ]
    }
   ],
   "source": [
    "# Calculate mean and standard deviation\n",
    "print(f'Mean of MSEs: {np.mean(mse_history)}')\n",
    "print(f'Standard Deviation of MSEs: {np.std(mse_history)}')"
   ]
  },
  {
   "cell_type": "markdown",
   "metadata": {},
   "source": [
    "Both mean and standard deviation decrease significantly compare to B"
   ]
  }
 ],
 "metadata": {
  "kernelspec": {
   "display_name": "Python 3",
   "language": "python",
   "name": "python3"
  },
  "language_info": {
   "codemirror_mode": {
    "name": "ipython",
    "version": 3
   },
   "file_extension": ".py",
   "mimetype": "text/x-python",
   "name": "python",
   "nbconvert_exporter": "python",
   "pygments_lexer": "ipython3",
   "version": "3.10.6"
  }
 },
 "nbformat": 4,
 "nbformat_minor": 2
}
