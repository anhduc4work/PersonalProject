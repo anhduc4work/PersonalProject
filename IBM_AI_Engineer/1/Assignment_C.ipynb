{
 "cells": [
  {
   "cell_type": "code",
   "execution_count": 1,
   "metadata": {},
   "outputs": [],
   "source": [
    "import numpy as np \n",
    "import pandas as pd \n",
    "import warnings\n",
    "warnings.filterwarnings(\"ignore\")"
   ]
  },
  {
   "attachments": {
    "image.png": {
     "image/png": "[encoded data removed]"
    }
   },
   "cell_type": "markdown",
   "metadata": {},
   "source": [
    "![image.png](attachment:image.png)"
   ]
  },
  {
   "cell_type": "markdown",
   "metadata": {},
   "source": [
    "# Prepare data"
   ]
  },
  {
   "cell_type": "code",
   "execution_count": 2,
   "metadata": {},
   "outputs": [],
   "source": [
    "# Read data\n",
    "from sklearn.model_selection import train_test_split\n",
    "data= pd.read_csv('concrete_data.csv')\n",
    "\n",
    "# Split data\n",
    "X = data.drop(['Strength'],axis =1)\n",
    "y = data['Strength']\n",
    "X_train, X_test, y_train, y_test = train_test_split(X, y, test_size=0.3)"
   ]
  },
  {
   "cell_type": "code",
   "execution_count": 3,
   "metadata": {},
   "outputs": [],
   "source": [
    "# Processing data\n",
    "from sklearn.preprocessing import StandardScaler\n",
    "scaler = StandardScaler()\n",
    "scaler.fit(X_train)\n",
    "X_train_B = scaler.transform(X_train)\n",
    "X_test_B = scaler.transform(X_test)"
   ]
  },
  {
   "cell_type": "markdown",
   "metadata": {},
   "source": [
    "# Build model"
   ]
  },
  {
   "cell_type": "code",
   "execution_count": 4,
   "metadata": {},
   "outputs": [
    {
     "name": "stdout",
     "output_type": "stream",
     "text": [
      "WARNING:tensorflow:From c:\\Users\\Administrator\\AppData\\Local\\Programs\\Python\\Python310\\lib\\site-packages\\keras\\src\\losses.py:2976: The name tf.losses.sparse_softmax_cross_entropy is deprecated. Please use tf.compat.v1.losses.sparse_softmax_cross_entropy instead.\n",
      "\n",
      "WARNING:tensorflow:From c:\\Users\\Administrator\\AppData\\Local\\Programs\\Python\\Python310\\lib\\site-packages\\keras\\src\\backend.py:873: The name tf.get_default_graph is deprecated. Please use tf.compat.v1.get_default_graph instead.\n",
      "\n",
      "WARNING:tensorflow:From c:\\Users\\Administrator\\AppData\\Local\\Programs\\Python\\Python310\\lib\\site-packages\\keras\\src\\optimizers\\__init__.py:309: The name tf.train.Optimizer is deprecated. Please use tf.compat.v1.train.Optimizer instead.\n",
      "\n"
     ]
    }
   ],
   "source": [
    "from keras.models import Sequential\n",
    "from keras.layers import Dense\n",
    "\n",
    "model = Sequential()\n",
    "model.add(Dense(10, activation = 'relu', input_shape=(X.shape[1],)))\n",
    "model.add(Dense(1))\n",
    "model.compile(optimizer='adam', loss='mean_squared_error')"
   ]
  },
  {
   "cell_type": "markdown",
   "metadata": {},
   "source": [
    "# Train & Validate model"
   ]
  },
  {
   "cell_type": "code",
   "execution_count": 5,
   "metadata": {},
   "outputs": [
    {
     "name": "stdout",
     "output_type": "stream",
     "text": [
      "Epoch 1/100\n",
      "WARNING:tensorflow:From c:\\Users\\Administrator\\AppData\\Local\\Programs\\Python\\Python310\\lib\\site-packages\\keras\\src\\utils\\tf_utils.py:492: The name tf.ragged.RaggedTensorValue is deprecated. Please use tf.compat.v1.ragged.RaggedTensorValue instead.\n",
      "\n",
      "23/23 [==============================] - 1s 11ms/step - loss: 91875.7578 - val_loss: 48401.6250\n",
      "Epoch 2/100\n",
      "23/23 [==============================] - 0s 5ms/step - loss: 27135.0547 - val_loss: 11534.4512\n",
      "Epoch 3/100\n",
      "23/23 [==============================] - 0s 6ms/step - loss: 6091.4868 - val_loss: 2605.0762\n",
      "Epoch 4/100\n",
      "23/23 [==============================] - 0s 5ms/step - loss: 2094.4580 - val_loss: 1567.4406\n",
      "Epoch 5/100\n",
      "23/23 [==============================] - 0s 5ms/step - loss: 1744.9872 - val_loss: 1477.3584\n",
      "Epoch 6/100\n",
      "23/23 [==============================] - 0s 4ms/step - loss: 1664.4185 - val_loss: 1413.2949\n",
      "Epoch 7/100\n",
      "23/23 [==============================] - 0s 4ms/step - loss: 1578.6820 - val_loss: 1349.1984\n",
      "Epoch 8/100\n",
      "23/23 [==============================] - 0s 4ms/step - loss: 1496.7305 - val_loss: 1283.5970\n",
      "Epoch 9/100\n",
      "23/23 [==============================] - 0s 4ms/step - loss: 1412.1310 - val_loss: 1219.0416\n",
      "Epoch 10/100\n",
      "23/23 [==============================] - 0s 3ms/step - loss: 1332.0603 - val_loss: 1151.6760\n",
      "Epoch 11/100\n",
      "23/23 [==============================] - 0s 3ms/step - loss: 1256.3413 - val_loss: 1093.7605\n",
      "Epoch 12/100\n",
      "23/23 [==============================] - 0s 4ms/step - loss: 1183.2391 - val_loss: 1039.5063\n",
      "Epoch 13/100\n",
      "23/23 [==============================] - 0s 4ms/step - loss: 1117.2323 - val_loss: 987.2537\n",
      "Epoch 14/100\n",
      "23/23 [==============================] - 0s 4ms/step - loss: 1056.3750 - val_loss: 946.1429\n",
      "Epoch 15/100\n",
      "23/23 [==============================] - 0s 4ms/step - loss: 1001.3075 - val_loss: 904.2677\n",
      "Epoch 16/100\n",
      "23/23 [==============================] - 0s 3ms/step - loss: 952.4724 - val_loss: 866.2300\n",
      "Epoch 17/100\n",
      "23/23 [==============================] - 0s 3ms/step - loss: 909.4480 - val_loss: 834.6447\n",
      "Epoch 18/100\n",
      "23/23 [==============================] - 0s 3ms/step - loss: 871.2273 - val_loss: 804.3636\n",
      "Epoch 19/100\n",
      "23/23 [==============================] - 0s 3ms/step - loss: 836.9899 - val_loss: 777.9775\n",
      "Epoch 20/100\n",
      "23/23 [==============================] - 0s 3ms/step - loss: 804.5165 - val_loss: 752.6606\n",
      "Epoch 21/100\n",
      "23/23 [==============================] - 0s 3ms/step - loss: 779.0834 - val_loss: 734.0497\n",
      "Epoch 22/100\n",
      "23/23 [==============================] - 0s 3ms/step - loss: 753.6505 - val_loss: 710.5514\n",
      "Epoch 23/100\n",
      "23/23 [==============================] - 0s 3ms/step - loss: 733.4208 - val_loss: 691.9809\n",
      "Epoch 24/100\n",
      "23/23 [==============================] - 0s 3ms/step - loss: 711.7805 - val_loss: 676.8479\n",
      "Epoch 25/100\n",
      "23/23 [==============================] - 0s 3ms/step - loss: 692.9877 - val_loss: 663.1282\n",
      "Epoch 26/100\n",
      "23/23 [==============================] - 0s 3ms/step - loss: 675.5795 - val_loss: 647.1755\n",
      "Epoch 27/100\n",
      "23/23 [==============================] - 0s 3ms/step - loss: 659.5574 - val_loss: 634.7069\n",
      "Epoch 28/100\n",
      "23/23 [==============================] - 0s 3ms/step - loss: 645.7137 - val_loss: 621.8337\n",
      "Epoch 29/100\n",
      "23/23 [==============================] - 0s 4ms/step - loss: 631.6538 - val_loss: 610.5560\n",
      "Epoch 30/100\n",
      "23/23 [==============================] - 0s 4ms/step - loss: 617.9010 - val_loss: 601.4138\n",
      "Epoch 31/100\n",
      "23/23 [==============================] - 0s 4ms/step - loss: 605.2996 - val_loss: 588.1738\n",
      "Epoch 32/100\n",
      "23/23 [==============================] - 0s 4ms/step - loss: 593.0908 - val_loss: 577.6561\n",
      "Epoch 33/100\n",
      "23/23 [==============================] - 0s 3ms/step - loss: 581.6342 - val_loss: 567.2842\n",
      "Epoch 34/100\n",
      "23/23 [==============================] - 0s 3ms/step - loss: 569.9364 - val_loss: 557.1404\n",
      "Epoch 35/100\n",
      "23/23 [==============================] - 0s 3ms/step - loss: 559.2875 - val_loss: 546.3437\n",
      "Epoch 36/100\n",
      "23/23 [==============================] - 0s 3ms/step - loss: 548.0150 - val_loss: 534.6877\n",
      "Epoch 37/100\n",
      "23/23 [==============================] - 0s 3ms/step - loss: 537.6447 - val_loss: 522.8174\n",
      "Epoch 38/100\n",
      "23/23 [==============================] - 0s 3ms/step - loss: 524.8379 - val_loss: 510.9579\n",
      "Epoch 39/100\n",
      "23/23 [==============================] - 0s 3ms/step - loss: 513.8286 - val_loss: 499.8752\n",
      "Epoch 40/100\n",
      "23/23 [==============================] - 0s 4ms/step - loss: 500.5608 - val_loss: 485.8089\n",
      "Epoch 41/100\n",
      "23/23 [==============================] - 0s 3ms/step - loss: 487.8347 - val_loss: 473.6394\n",
      "Epoch 42/100\n",
      "23/23 [==============================] - 0s 3ms/step - loss: 475.7820 - val_loss: 461.0412\n",
      "Epoch 43/100\n",
      "23/23 [==============================] - 0s 3ms/step - loss: 463.0708 - val_loss: 448.6398\n",
      "Epoch 44/100\n",
      "23/23 [==============================] - 0s 3ms/step - loss: 450.3099 - val_loss: 435.1539\n",
      "Epoch 45/100\n",
      "23/23 [==============================] - 0s 3ms/step - loss: 437.1376 - val_loss: 419.8516\n",
      "Epoch 46/100\n",
      "23/23 [==============================] - 0s 3ms/step - loss: 426.9034 - val_loss: 405.4224\n",
      "Epoch 47/100\n",
      "23/23 [==============================] - 0s 3ms/step - loss: 411.5110 - val_loss: 392.9855\n",
      "Epoch 48/100\n",
      "23/23 [==============================] - 0s 3ms/step - loss: 400.3708 - val_loss: 380.3482\n",
      "Epoch 49/100\n",
      "23/23 [==============================] - 0s 3ms/step - loss: 387.0136 - val_loss: 367.0597\n",
      "Epoch 50/100\n",
      "23/23 [==============================] - 0s 3ms/step - loss: 374.3569 - val_loss: 353.3347\n",
      "Epoch 51/100\n",
      "23/23 [==============================] - 0s 3ms/step - loss: 360.6350 - val_loss: 341.6355\n",
      "Epoch 52/100\n",
      "23/23 [==============================] - 0s 3ms/step - loss: 348.7816 - val_loss: 329.4841\n",
      "Epoch 53/100\n",
      "23/23 [==============================] - 0s 3ms/step - loss: 335.4260 - val_loss: 317.0797\n",
      "Epoch 54/100\n",
      "23/23 [==============================] - 0s 3ms/step - loss: 324.0906 - val_loss: 306.5506\n",
      "Epoch 55/100\n",
      "23/23 [==============================] - 0s 3ms/step - loss: 312.3340 - val_loss: 294.8755\n",
      "Epoch 56/100\n",
      "23/23 [==============================] - 0s 3ms/step - loss: 307.1659 - val_loss: 289.0897\n",
      "Epoch 57/100\n",
      "23/23 [==============================] - 0s 3ms/step - loss: 295.1706 - val_loss: 276.0132\n",
      "Epoch 58/100\n",
      "23/23 [==============================] - 0s 3ms/step - loss: 286.5120 - val_loss: 267.0797\n",
      "Epoch 59/100\n",
      "23/23 [==============================] - 0s 3ms/step - loss: 278.2866 - val_loss: 259.2532\n",
      "Epoch 60/100\n",
      "23/23 [==============================] - 0s 3ms/step - loss: 270.9597 - val_loss: 251.6301\n",
      "Epoch 61/100\n",
      "23/23 [==============================] - 0s 3ms/step - loss: 261.9032 - val_loss: 246.5416\n",
      "Epoch 62/100\n",
      "23/23 [==============================] - 0s 3ms/step - loss: 258.0780 - val_loss: 239.8947\n",
      "Epoch 63/100\n",
      "23/23 [==============================] - 0s 3ms/step - loss: 248.0399 - val_loss: 233.2218\n",
      "Epoch 64/100\n",
      "23/23 [==============================] - 0s 3ms/step - loss: 240.8980 - val_loss: 224.6143\n",
      "Epoch 65/100\n",
      "23/23 [==============================] - 0s 3ms/step - loss: 234.6168 - val_loss: 219.1130\n",
      "Epoch 66/100\n",
      "23/23 [==============================] - 0s 3ms/step - loss: 228.7106 - val_loss: 213.6456\n",
      "Epoch 67/100\n",
      "23/23 [==============================] - 0s 3ms/step - loss: 223.1023 - val_loss: 207.8712\n",
      "Epoch 68/100\n",
      "23/23 [==============================] - 0s 3ms/step - loss: 218.6490 - val_loss: 202.3634\n",
      "Epoch 69/100\n",
      "23/23 [==============================] - 0s 4ms/step - loss: 212.8077 - val_loss: 197.3823\n",
      "Epoch 70/100\n",
      "23/23 [==============================] - 0s 4ms/step - loss: 206.0031 - val_loss: 193.3922\n",
      "Epoch 71/100\n",
      "23/23 [==============================] - 0s 3ms/step - loss: 200.9292 - val_loss: 187.9496\n",
      "Epoch 72/100\n",
      "23/23 [==============================] - 0s 3ms/step - loss: 195.8725 - val_loss: 187.8283\n",
      "Epoch 73/100\n",
      "23/23 [==============================] - 0s 3ms/step - loss: 191.4357 - val_loss: 181.1683\n",
      "Epoch 74/100\n",
      "23/23 [==============================] - 0s 3ms/step - loss: 186.0503 - val_loss: 175.1851\n",
      "Epoch 75/100\n",
      "23/23 [==============================] - 0s 3ms/step - loss: 182.3490 - val_loss: 169.9924\n",
      "Epoch 76/100\n",
      "23/23 [==============================] - 0s 3ms/step - loss: 177.0886 - val_loss: 165.8929\n",
      "Epoch 77/100\n",
      "23/23 [==============================] - 0s 5ms/step - loss: 173.3170 - val_loss: 161.9863\n",
      "Epoch 78/100\n",
      "23/23 [==============================] - 0s 3ms/step - loss: 168.0120 - val_loss: 157.8909\n",
      "Epoch 79/100\n",
      "23/23 [==============================] - 0s 3ms/step - loss: 166.3210 - val_loss: 154.8002\n",
      "Epoch 80/100\n",
      "23/23 [==============================] - 0s 3ms/step - loss: 159.1485 - val_loss: 151.1538\n",
      "Epoch 81/100\n",
      "23/23 [==============================] - 0s 3ms/step - loss: 155.2376 - val_loss: 148.1986\n",
      "Epoch 82/100\n",
      "23/23 [==============================] - 0s 3ms/step - loss: 151.3661 - val_loss: 145.6090\n",
      "Epoch 83/100\n",
      "23/23 [==============================] - 0s 3ms/step - loss: 148.6033 - val_loss: 142.8723\n",
      "Epoch 84/100\n",
      "23/23 [==============================] - 0s 5ms/step - loss: 146.5013 - val_loss: 140.5257\n",
      "Epoch 85/100\n",
      "23/23 [==============================] - 0s 3ms/step - loss: 143.4659 - val_loss: 138.1497\n",
      "Epoch 86/100\n",
      "23/23 [==============================] - 0s 3ms/step - loss: 139.9843 - val_loss: 136.8817\n",
      "Epoch 87/100\n",
      "23/23 [==============================] - 0s 3ms/step - loss: 139.7688 - val_loss: 134.6656\n",
      "Epoch 88/100\n",
      "23/23 [==============================] - 0s 3ms/step - loss: 135.2744 - val_loss: 134.4884\n",
      "Epoch 89/100\n",
      "23/23 [==============================] - 0s 3ms/step - loss: 134.6284 - val_loss: 132.3883\n",
      "Epoch 90/100\n",
      "23/23 [==============================] - 0s 3ms/step - loss: 131.9832 - val_loss: 130.1621\n",
      "Epoch 91/100\n",
      "23/23 [==============================] - 0s 3ms/step - loss: 130.1005 - val_loss: 129.0179\n",
      "Epoch 92/100\n",
      "23/23 [==============================] - 0s 3ms/step - loss: 128.5403 - val_loss: 127.8585\n",
      "Epoch 93/100\n",
      "23/23 [==============================] - 0s 3ms/step - loss: 126.6421 - val_loss: 127.1608\n",
      "Epoch 94/100\n",
      "23/23 [==============================] - 0s 3ms/step - loss: 124.7765 - val_loss: 126.0953\n",
      "Epoch 95/100\n",
      "23/23 [==============================] - 0s 3ms/step - loss: 123.7920 - val_loss: 126.1470\n",
      "Epoch 96/100\n",
      "23/23 [==============================] - 0s 3ms/step - loss: 124.2514 - val_loss: 126.6654\n",
      "Epoch 97/100\n",
      "23/23 [==============================] - 0s 3ms/step - loss: 122.4154 - val_loss: 123.1241\n",
      "Epoch 98/100\n",
      "23/23 [==============================] - 0s 3ms/step - loss: 120.0819 - val_loss: 122.2699\n",
      "Epoch 99/100\n",
      "23/23 [==============================] - 0s 3ms/step - loss: 119.4467 - val_loss: 121.6769\n",
      "Epoch 100/100\n",
      "23/23 [==============================] - 0s 3ms/step - loss: 118.1424 - val_loss: 121.1577\n"
     ]
    },
    {
     "data": {
      "text/plain": [
       "<keras.src.callbacks.History at 0x1dd4152e6b0>"
      ]
     },
     "execution_count": 5,
     "metadata": {},
     "output_type": "execute_result"
    }
   ],
   "source": [
    "model.fit(X_train, y_train, validation_data=(X_test, y_test), epochs=100)"
   ]
  },
  {
   "cell_type": "markdown",
   "metadata": {},
   "source": [
    "# Report"
   ]
  },
  {
   "cell_type": "code",
   "execution_count": 6,
   "metadata": {},
   "outputs": [],
   "source": [
    "# list of mse on test set\n",
    "mse_history = model.history.history['val_loss']"
   ]
  },
  {
   "cell_type": "code",
   "execution_count": 7,
   "metadata": {},
   "outputs": [
    {
     "name": "stdout",
     "output_type": "stream",
     "text": [
      "Mean of MSEs: 1065.697265777588\n",
      "Standard Deviation of MSEs: 4900.115259177075\n"
     ]
    }
   ],
   "source": [
    "# Calculate mean and standard deviation\n",
    "print(f'Mean of MSEs: {np.mean(mse_history)}')\n",
    "print(f'Standard Deviation of MSEs: {np.std(mse_history)}')"
   ]
  },
  {
   "cell_type": "markdown",
   "metadata": {},
   "source": [
    "Both mean and standard deviation increase significantly compare to B"
   ]
  }
 ],
 "metadata": {
  "kernelspec": {
   "display_name": "Python 3",
   "language": "python",
   "name": "python3"
  },
  "language_info": {
   "codemirror_mode": {
    "name": "ipython",
    "version": 3
   },
   "file_extension": ".py",
   "mimetype": "text/x-python",
   "name": "python",
   "nbconvert_exporter": "python",
   "pygments_lexer": "ipython3",
   "version": "3.10.6"
  }
 },
 "nbformat": 4,
 "nbformat_minor": 2
}
